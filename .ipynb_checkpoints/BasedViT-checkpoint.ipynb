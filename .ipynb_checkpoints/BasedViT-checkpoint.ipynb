{
 "cells": [
  {
   "cell_type": "code",
   "execution_count": 1,
   "metadata": {},
   "outputs": [],
   "source": [
    "import cv2,os,math\n",
    "from PIL import Image\n",
    "import numpy as np\n",
    "from matplotlib import pyplot as plt\n",
    "from tqdm import tqdm_notebook as tqdm\n",
    "\n",
    "from sklearn.model_selection import train_test_split\n",
    "from sklearn.metrics import roc_auc_score,precision_score,accuracy_score,roc_curve\n",
    "import torch\n",
    "import torch.nn as nn\n",
    "from torchvision import transforms\n",
    "from torchvision import datasets\n",
    "import torchvision.models as models\n",
    "from pytorch_grad_cam.utils.image import show_cam_on_image\n",
    "\n",
    "from vit_pytorch import ViT\n",
    "from vit_pytorch.mobile_vit import MobileViT"
   ]
  },
  {
   "cell_type": "code",
   "execution_count": 2,
   "metadata": {},
   "outputs": [
    {
     "name": "stdout",
     "output_type": "stream",
     "text": [
      "torch.device(cuda)\n",
      "torch.cuda.device_count():  1\n",
      "Tesla V100-SXM2-16GB\n",
      "torch.cuda.current_device() 0\n"
     ]
    }
   ],
   "source": [
    "if torch.cuda.is_available():\n",
    "    device = torch.device(\"cuda\")\n",
    "    print(\"torch.device(cuda)\")\n",
    "    print(\"torch.cuda.device_count(): \", torch.cuda.device_count())\n",
    "    for i in range(torch.cuda.device_count()):\n",
    "        print(torch.cuda.get_device_name())\n",
    "    print(\"torch.cuda.current_device()\", torch.cuda.current_device())\n",
    "else:\n",
    "    device = torch.device(\"cpu\")\n",
    "    print(\"torch.device(cpu)\")"
   ]
  },
  {
   "cell_type": "markdown",
   "metadata": {
    "id": "aJjxv_T_DNKk"
   },
   "source": [
    "# データの読み込み"
   ]
  },
  {
   "cell_type": "code",
   "execution_count": 3,
   "metadata": {},
   "outputs": [],
   "source": [
    "train_path = \"../Datasets/DefectDetect/casting_512x512/casting_512x512/\"\n",
    "test_path = \"../Datasets/DefectDetect/casting_data/casting_data/test/\""
   ]
  },
  {
   "cell_type": "code",
   "execution_count": 26,
   "metadata": {},
   "outputs": [],
   "source": [
    "transform = transforms.Compose([transforms.ToTensor(),\n",
    "                                transforms.Resize((100, 100)),])\n",
    "train_dataset = datasets.ImageFolder(train_path, transform)\n",
    "test_dataset  = datasets.ImageFolder(test_path, transform)"
   ]
  },
  {
   "cell_type": "code",
   "execution_count": 27,
   "metadata": {
    "executionInfo": {
     "elapsed": 325,
     "status": "ok",
     "timestamp": 1627023533467,
     "user": {
      "displayName": "Yicheng Wang",
      "photoUrl": "https://lh3.googleusercontent.com/a-/AOh14GgziKLn_im8Zl7A_SAzLLRm66nioH7fG0xuCYpJYg=s64",
      "userId": "10487961361854797289"
     },
     "user_tz": -540
    },
    "id": "xK5exWXUDNKn"
   },
   "outputs": [],
   "source": [
    "batch_size = 16\n",
    "\n",
    "train_size = int(0.7*len(train_dataset))\n",
    "val_size = len(train_dataset)-train_size\n",
    "\n",
    "train_data, val_data = torch.utils.data.random_split(train_dataset, [train_size, val_size])\n",
    "\n",
    "dataloader_train = torch.utils.data.DataLoader(train_data, batch_size=batch_size, shuffle=True)\n",
    "dataloader_valid = torch.utils.data.DataLoader(val_data, batch_size=batch_size, shuffle=True)\n",
    "dataloader_test = torch.utils.data.DataLoader(test_dataset, batch_size=batch_size, shuffle=True)"
   ]
  },
  {
   "cell_type": "code",
   "execution_count": 28,
   "metadata": {},
   "outputs": [
    {
     "name": "stdout",
     "output_type": "stream",
     "text": [
      "Total number of train :  909\n",
      "Total number of val :  391\n",
      "Total number of val :  715\n"
     ]
    }
   ],
   "source": [
    "print(\"Total number of train : \", train_size)\n",
    "print(\"Total number of val : \", val_size)\n",
    "print(\"Total number of val : \", len(test_dataset))"
   ]
  },
  {
   "cell_type": "markdown",
   "metadata": {
    "id": "-KBoEbEMDNKo"
   },
   "source": [
    "# Model development"
   ]
  },
  {
   "cell_type": "code",
   "execution_count": 29,
   "metadata": {},
   "outputs": [],
   "source": [
    "# model = models.vit_b_16(weights=models.ViT_B_16_Weights.DEFAULT)\n",
    "# model.heads[0] = nn.Linear(768, 2)\n",
    "\n",
    "# model = models.resnet18(pretrained=True)\n",
    "# model.fc = nn.Sequential(\n",
    "#     nn.Linear(512, 2)\n",
    "# )"
   ]
  },
  {
   "cell_type": "code",
   "execution_count": 30,
   "metadata": {},
   "outputs": [],
   "source": [
    "# model = MobileViT(\n",
    "#     image_size = (256, 256),\n",
    "#     dims = [96, 120, 144],\n",
    "#     channels = [16, 32, 48, 48, 64, 64, 80, 80, 96, 96, 384],\n",
    "#     num_classes = 2\n",
    "# ).to(device)"
   ]
  },
  {
   "cell_type": "code",
   "execution_count": 31,
   "metadata": {},
   "outputs": [],
   "source": [
    "model = ViT(\n",
    "    image_size = 100,\n",
    "    patch_size = 10,\n",
    "    num_classes = 2,\n",
    "    dim = 1024,\n",
    "    depth = 6,\n",
    "    heads = 16,\n",
    "    mlp_dim = 2048,\n",
    "    dropout = 0.1,\n",
    "    emb_dropout = 0.1\n",
    ").to(device)"
   ]
  },
  {
   "cell_type": "code",
   "execution_count": 32,
   "metadata": {},
   "outputs": [],
   "source": [
    "ngpu = 1\n",
    "if (device.type == 'cuda') and (ngpu > 1):\n",
    "    model = nn.DataParallel(model, list(range(ngpu)))"
   ]
  },
  {
   "cell_type": "code",
   "execution_count": 33,
   "metadata": {
    "scrolled": true
   },
   "outputs": [
    {
     "data": {
      "text/plain": [
       "ViT(\n",
       "  (to_patch_embedding): Sequential(\n",
       "    (0): Rearrange('b c (h p1) (w p2) -> b (h w) (p1 p2 c)', p1=10, p2=10)\n",
       "    (1): Linear(in_features=300, out_features=1024, bias=True)\n",
       "  )\n",
       "  (dropout): Dropout(p=0.1, inplace=False)\n",
       "  (transformer): Transformer(\n",
       "    (layers): ModuleList(\n",
       "      (0): ModuleList(\n",
       "        (0): PreNorm(\n",
       "          (norm): LayerNorm((1024,), eps=1e-05, elementwise_affine=True)\n",
       "          (fn): Attention(\n",
       "            (attend): Softmax(dim=-1)\n",
       "            (dropout): Dropout(p=0.1, inplace=False)\n",
       "            (to_qkv): Linear(in_features=1024, out_features=3072, bias=False)\n",
       "            (to_out): Sequential(\n",
       "              (0): Linear(in_features=1024, out_features=1024, bias=True)\n",
       "              (1): Dropout(p=0.1, inplace=False)\n",
       "            )\n",
       "          )\n",
       "        )\n",
       "        (1): PreNorm(\n",
       "          (norm): LayerNorm((1024,), eps=1e-05, elementwise_affine=True)\n",
       "          (fn): FeedForward(\n",
       "            (net): Sequential(\n",
       "              (0): Linear(in_features=1024, out_features=2048, bias=True)\n",
       "              (1): GELU(approximate=none)\n",
       "              (2): Dropout(p=0.1, inplace=False)\n",
       "              (3): Linear(in_features=2048, out_features=1024, bias=True)\n",
       "              (4): Dropout(p=0.1, inplace=False)\n",
       "            )\n",
       "          )\n",
       "        )\n",
       "      )\n",
       "      (1): ModuleList(\n",
       "        (0): PreNorm(\n",
       "          (norm): LayerNorm((1024,), eps=1e-05, elementwise_affine=True)\n",
       "          (fn): Attention(\n",
       "            (attend): Softmax(dim=-1)\n",
       "            (dropout): Dropout(p=0.1, inplace=False)\n",
       "            (to_qkv): Linear(in_features=1024, out_features=3072, bias=False)\n",
       "            (to_out): Sequential(\n",
       "              (0): Linear(in_features=1024, out_features=1024, bias=True)\n",
       "              (1): Dropout(p=0.1, inplace=False)\n",
       "            )\n",
       "          )\n",
       "        )\n",
       "        (1): PreNorm(\n",
       "          (norm): LayerNorm((1024,), eps=1e-05, elementwise_affine=True)\n",
       "          (fn): FeedForward(\n",
       "            (net): Sequential(\n",
       "              (0): Linear(in_features=1024, out_features=2048, bias=True)\n",
       "              (1): GELU(approximate=none)\n",
       "              (2): Dropout(p=0.1, inplace=False)\n",
       "              (3): Linear(in_features=2048, out_features=1024, bias=True)\n",
       "              (4): Dropout(p=0.1, inplace=False)\n",
       "            )\n",
       "          )\n",
       "        )\n",
       "      )\n",
       "      (2): ModuleList(\n",
       "        (0): PreNorm(\n",
       "          (norm): LayerNorm((1024,), eps=1e-05, elementwise_affine=True)\n",
       "          (fn): Attention(\n",
       "            (attend): Softmax(dim=-1)\n",
       "            (dropout): Dropout(p=0.1, inplace=False)\n",
       "            (to_qkv): Linear(in_features=1024, out_features=3072, bias=False)\n",
       "            (to_out): Sequential(\n",
       "              (0): Linear(in_features=1024, out_features=1024, bias=True)\n",
       "              (1): Dropout(p=0.1, inplace=False)\n",
       "            )\n",
       "          )\n",
       "        )\n",
       "        (1): PreNorm(\n",
       "          (norm): LayerNorm((1024,), eps=1e-05, elementwise_affine=True)\n",
       "          (fn): FeedForward(\n",
       "            (net): Sequential(\n",
       "              (0): Linear(in_features=1024, out_features=2048, bias=True)\n",
       "              (1): GELU(approximate=none)\n",
       "              (2): Dropout(p=0.1, inplace=False)\n",
       "              (3): Linear(in_features=2048, out_features=1024, bias=True)\n",
       "              (4): Dropout(p=0.1, inplace=False)\n",
       "            )\n",
       "          )\n",
       "        )\n",
       "      )\n",
       "      (3): ModuleList(\n",
       "        (0): PreNorm(\n",
       "          (norm): LayerNorm((1024,), eps=1e-05, elementwise_affine=True)\n",
       "          (fn): Attention(\n",
       "            (attend): Softmax(dim=-1)\n",
       "            (dropout): Dropout(p=0.1, inplace=False)\n",
       "            (to_qkv): Linear(in_features=1024, out_features=3072, bias=False)\n",
       "            (to_out): Sequential(\n",
       "              (0): Linear(in_features=1024, out_features=1024, bias=True)\n",
       "              (1): Dropout(p=0.1, inplace=False)\n",
       "            )\n",
       "          )\n",
       "        )\n",
       "        (1): PreNorm(\n",
       "          (norm): LayerNorm((1024,), eps=1e-05, elementwise_affine=True)\n",
       "          (fn): FeedForward(\n",
       "            (net): Sequential(\n",
       "              (0): Linear(in_features=1024, out_features=2048, bias=True)\n",
       "              (1): GELU(approximate=none)\n",
       "              (2): Dropout(p=0.1, inplace=False)\n",
       "              (3): Linear(in_features=2048, out_features=1024, bias=True)\n",
       "              (4): Dropout(p=0.1, inplace=False)\n",
       "            )\n",
       "          )\n",
       "        )\n",
       "      )\n",
       "      (4): ModuleList(\n",
       "        (0): PreNorm(\n",
       "          (norm): LayerNorm((1024,), eps=1e-05, elementwise_affine=True)\n",
       "          (fn): Attention(\n",
       "            (attend): Softmax(dim=-1)\n",
       "            (dropout): Dropout(p=0.1, inplace=False)\n",
       "            (to_qkv): Linear(in_features=1024, out_features=3072, bias=False)\n",
       "            (to_out): Sequential(\n",
       "              (0): Linear(in_features=1024, out_features=1024, bias=True)\n",
       "              (1): Dropout(p=0.1, inplace=False)\n",
       "            )\n",
       "          )\n",
       "        )\n",
       "        (1): PreNorm(\n",
       "          (norm): LayerNorm((1024,), eps=1e-05, elementwise_affine=True)\n",
       "          (fn): FeedForward(\n",
       "            (net): Sequential(\n",
       "              (0): Linear(in_features=1024, out_features=2048, bias=True)\n",
       "              (1): GELU(approximate=none)\n",
       "              (2): Dropout(p=0.1, inplace=False)\n",
       "              (3): Linear(in_features=2048, out_features=1024, bias=True)\n",
       "              (4): Dropout(p=0.1, inplace=False)\n",
       "            )\n",
       "          )\n",
       "        )\n",
       "      )\n",
       "      (5): ModuleList(\n",
       "        (0): PreNorm(\n",
       "          (norm): LayerNorm((1024,), eps=1e-05, elementwise_affine=True)\n",
       "          (fn): Attention(\n",
       "            (attend): Softmax(dim=-1)\n",
       "            (dropout): Dropout(p=0.1, inplace=False)\n",
       "            (to_qkv): Linear(in_features=1024, out_features=3072, bias=False)\n",
       "            (to_out): Sequential(\n",
       "              (0): Linear(in_features=1024, out_features=1024, bias=True)\n",
       "              (1): Dropout(p=0.1, inplace=False)\n",
       "            )\n",
       "          )\n",
       "        )\n",
       "        (1): PreNorm(\n",
       "          (norm): LayerNorm((1024,), eps=1e-05, elementwise_affine=True)\n",
       "          (fn): FeedForward(\n",
       "            (net): Sequential(\n",
       "              (0): Linear(in_features=1024, out_features=2048, bias=True)\n",
       "              (1): GELU(approximate=none)\n",
       "              (2): Dropout(p=0.1, inplace=False)\n",
       "              (3): Linear(in_features=2048, out_features=1024, bias=True)\n",
       "              (4): Dropout(p=0.1, inplace=False)\n",
       "            )\n",
       "          )\n",
       "        )\n",
       "      )\n",
       "    )\n",
       "  )\n",
       "  (to_latent): Identity()\n",
       "  (mlp_head): Sequential(\n",
       "    (0): LayerNorm((1024,), eps=1e-05, elementwise_affine=True)\n",
       "    (1): Linear(in_features=1024, out_features=2, bias=True)\n",
       "  )\n",
       ")"
      ]
     },
     "execution_count": 33,
     "metadata": {},
     "output_type": "execute_result"
    }
   ],
   "source": [
    "model"
   ]
  },
  {
   "cell_type": "code",
   "execution_count": 34,
   "metadata": {},
   "outputs": [
    {
     "name": "stdout",
     "output_type": "stream",
     "text": [
      "torch.Size([1, 2])\n"
     ]
    }
   ],
   "source": [
    "image_size = 100\n",
    "test_input = torch.ones(1,3,image_size,image_size).to(device)\n",
    "print(model(test_input).size())"
   ]
  },
  {
   "cell_type": "code",
   "execution_count": 35,
   "metadata": {},
   "outputs": [
    {
     "name": "stdout",
     "output_type": "stream",
     "text": [
      "(13741785088, 16945709056)\n"
     ]
    }
   ],
   "source": [
    "print(torch.cuda.mem_get_info())\n",
    "torch.cuda.empty_cache()\n",
    "# # print(torch.cuda.memory_stats())\n",
    "# print(torch.cuda.memory_summary())"
   ]
  },
  {
   "cell_type": "code",
   "execution_count": 36,
   "metadata": {
    "id": "xs6IXgvsDNKp",
    "scrolled": false
   },
   "outputs": [],
   "source": [
    "# model = torch.load(\"Feactor.pkl\")\n",
    "\n",
    "# #Freeze model weights\n",
    "# for param in model.parameters():\n",
    "#     param.requires_grad = True\n",
    "# for param in model.fc.parameters():\n",
    "#     param.requires_grad = True"
   ]
  },
  {
   "cell_type": "code",
   "execution_count": 37,
   "metadata": {},
   "outputs": [],
   "source": [
    "# model.avgpool = nn.AdaptiveAvgPool2d(1)\n",
    "# loss function\n",
    "loss_function = nn.CrossEntropyLoss()\n",
    "# optimizer\n",
    "optimizer = torch.optim.Adam(model.parameters(), lr=0.1) \n",
    "# scheduler\n",
    "scheduler = torch.optim.lr_scheduler.ExponentialLR(optimizer, gamma=0.99) # 定义衰减策略"
   ]
  },
  {
   "cell_type": "code",
   "execution_count": 38,
   "metadata": {},
   "outputs": [],
   "source": [
    "losstrain=[]\n",
    "lossvalid=[]\n",
    "Accuracytrain=[]\n",
    "Accuracyvalid=[]"
   ]
  },
  {
   "cell_type": "code",
   "execution_count": 41,
   "metadata": {
    "scrolled": true
   },
   "outputs": [
    {
     "name": "stdout",
     "output_type": "stream",
     "text": [
      "EPOCH: 0, Train [Loss: 0.733, Accuracy: 0.563], Valid [Loss: 0.685, Accuracy: 0.565]\n"
     ]
    }
   ],
   "source": [
    "n_epoches = 1\n",
    "for epoch in range(n_epoches):\n",
    "    losses_train = []\n",
    "    losses_valid = []\n",
    "    # Train\n",
    "    optimizer.step()\n",
    "    model.train()\n",
    "    n_train = 0\n",
    "    acc_train = 0\n",
    "    for x, y in dataloader_train:\n",
    "        n_train += y.size()[0]\n",
    "        model.zero_grad()  # 勾配の初期化\n",
    "        x = x.to(device)  # テンソルをGPUに移動\n",
    "        y = y.to(device)\n",
    "        output = model.forward(x)  # 順伝播\n",
    "        loss = loss_function(output, y)  # 誤差(クロスエントロピー誤差関数)の計算\n",
    "        loss.backward()  # 誤差の逆伝播\n",
    "        optimizer.step()  # パラメータの更新\n",
    "        pred = output.argmax(1)  # 最大値を取るラベルを予測ラベルとする\n",
    "        acc_train += (pred == y).float().sum().item()\n",
    "        losses_train.append(loss.tolist())\n",
    "    # Evaluate\n",
    "    model.eval()\n",
    "    n_val = 0\n",
    "    acc_val = 0\n",
    "    for x, y in dataloader_valid:\n",
    "        n_val += y.size()[0]\n",
    "        x = x.to(device)  # テンソルをGPUに移動\n",
    "        y = y.to(device)\n",
    "        output = model.forward(x)  # 順伝播\n",
    "        loss = loss_function(output, y)  # 誤差(クロスエントロピー誤差関数)の計算\n",
    "        pred = output.argmax(1)  # 最大値を取るラベルを予測ラベルとする\n",
    "        acc_val += (pred == y).float().sum().item()\n",
    "        losses_valid.append(loss.tolist())\n",
    "    scheduler.step()\n",
    "    # Visualize loss & accuracy    \n",
    "    losstrain.append(np.mean(losses_train))\n",
    "    Accuracytrain.append(acc_train/n_train)\n",
    "    lossvalid.append(np.mean(losses_valid))\n",
    "    Accuracyvalid.append(acc_val/n_val)\n",
    "    print('EPOCH: {}, Train [Loss: {:.3f}, Accuracy: {:.3f}], Valid [Loss: {:.3f}, Accuracy: {:.3f}]'\n",
    "          .format(epoch,np.mean(losses_train),acc_train/n_train,np.mean(losses_valid),acc_val/n_val))"
   ]
  },
  {
   "cell_type": "code",
   "execution_count": 18,
   "metadata": {},
   "outputs": [
    {
     "data": {
      "image/png": "[encoded data removed]",
      "text/plain": [
       "<Figure size 432x288 with 1 Axes>"
      ]
     },
     "metadata": {
      "needs_background": "light"
     },
     "output_type": "display_data"
    },
    {
     "data": {
      "text/plain": [
       "<Figure size 432x288 with 0 Axes>"
      ]
     },
     "metadata": {},
     "output_type": "display_data"
    }
   ],
   "source": [
    "# train processing plot\n",
    "n_epoches = n_epoches\n",
    "epochs=range(1,n_epoches+1)\n",
    "plt.ylim(0,1.0)\n",
    "plt.plot(epochs,Accuracytrain,'b',label='Training accuracy')  \n",
    "plt.plot(epochs, Accuracyvalid,'r',label='Validation accuracy')\n",
    "plt.title('Training and Validation accuracy')\n",
    "plt.legend()\n",
    "plt.figure()\n",
    "plt.show()"
   ]
  },
  {
   "cell_type": "markdown",
   "metadata": {},
   "source": [
    "# Attention Map"
   ]
  },
  {
   "cell_type": "code",
   "execution_count": 42,
   "metadata": {},
   "outputs": [],
   "source": [
    "def rollout(attentions, discard_ratio):\n",
    "    result = torch.eye(attentions[0].size(-1))\n",
    "    with torch.no_grad():\n",
    "        for attention in attentions:\n",
    "            attention_heads_fused = attention.mean(axis=1)\n",
    "\n",
    "            # Drop the lowest attentions, but don't drop the class token\n",
    "            flat = attention_heads_fused.view(attention_heads_fused.size(0), -1)\n",
    "            _, indices = flat.topk(int(flat.size(-1)*discard_ratio), -1, False)\n",
    "            indices = indices[indices != 0]\n",
    "            flat[0, indices] = 0\n",
    "\n",
    "            I = torch.eye(attention_heads_fused.size(-1))\n",
    "            a = (attention_heads_fused + 1.0*I)/2\n",
    "            a = a / a.sum(dim=-1)\n",
    "\n",
    "            result = torch.matmul(a, result)\n",
    "    \n",
    "    # Look at the total attention between the class token, and the image patches\n",
    "    mask = result[0, 0 , 1 :]\n",
    "    # In case of 224x224 image, this brings us from 196 to 14\n",
    "    width = int(mask.size(-1)**0.5)\n",
    "    mask = mask.reshape(width, width).numpy()\n",
    "    mask = mask / np.max(mask)\n",
    "    return mask    \n",
    "\n",
    "def grad_rollout(attentions, gradients, discard_ratio):\n",
    "    result = torch.eye(attentions[0].size(-1))\n",
    "    with torch.no_grad():\n",
    "        for attention, grad in zip(attentions, gradients):\n",
    "            weights = grad\n",
    "            attention_heads_fused = (attention*weights).mean(axis=1)\n",
    "            attention_heads_fused[attention_heads_fused < 0] = 0\n",
    "\n",
    "            # Drop the lowest attentions, butdon't drop the class token\n",
    "            flat = attention_heads_fused.view(attention_heads_fused.size(0), -1)\n",
    "            _, indices = flat.topk(int(flat.size(-1)*discard_ratio), -1, False)\n",
    "            #indices = indices[indices != 0]\n",
    "            flat[0, indices] = 0\n",
    "\n",
    "            I = torch.eye(attention_heads_fused.size(-1))\n",
    "            a = (attention_heads_fused + 1.0*I)/2\n",
    "            a = a / a.sum(dim=-1)\n",
    "            result = torch.matmul(a, result)\n",
    "    \n",
    "    # Look at the total attention between the class token,\n",
    "    # and the image patches\n",
    "    mask = result[0, 0 , 1 :]\n",
    "    # In case of 224x224 image, this brings us from 196 to 14\n",
    "    width = int(mask.size(-1)**0.5)\n",
    "    mask = mask.reshape(width, width).numpy()\n",
    "    mask = mask / np.max(mask)\n",
    "    return mask    \n",
    "\n",
    "class VITAttentionGradRollout:\n",
    "    def __init__(self, model, \n",
    "                 attention_layer_name='trunk.1.1.transformer.layers.0.0.fn.attend', discard_ratio=0.9):\n",
    "        self.model = model\n",
    "        self.discard_ratio = discard_ratio\n",
    "        for name, module in self.model.named_modules():\n",
    "            if attention_layer_name in name:\n",
    "                module.register_forward_hook(self.get_attention)\n",
    "                module.register_backward_hook(self.get_attention_gradient)\n",
    "\n",
    "        self.attentions = []\n",
    "        self.attention_gradients = []\n",
    "\n",
    "    def get_attention(self, module, input, output):\n",
    "        self.attentions.append(output.cpu())\n",
    "\n",
    "    def get_attention_gradient(self, module, grad_input, grad_output):\n",
    "        self.attention_gradients.append(grad_input[0].cpu())\n",
    "\n",
    "    def __call__(self, input_tensor, category_index=0):\n",
    "        self.model.zero_grad()\n",
    "        output = self.model(input_tensor).cpu()\n",
    "        category_mask = torch.zeros(output.size())\n",
    "        category_mask[:, category_index] = 1\n",
    "        loss = (output*category_mask).sum()\n",
    "        loss.backward()\n",
    "\n",
    "        return grad_rollout(self.attentions, self.attention_gradients, self.discard_ratio)"
   ]
  },
  {
   "cell_type": "code",
   "execution_count": 43,
   "metadata": {
    "scrolled": true
   },
   "outputs": [
    {
     "name": "stdout",
     "output_type": "stream",
     "text": [
      "label: def 0\n",
      "pridiction:  0\n"
     ]
    },
    {
     "data": {
      "text/plain": [
       "<matplotlib.image.AxesImage at 0x2b2d2ebae590>"
      ]
     },
     "execution_count": 43,
     "metadata": {},
     "output_type": "execute_result"
    },
    {
     "data": {
      "image/png": "[encoded data removed]",
      "text/plain": [
       "<Figure size 432x288 with 1 Axes>"
      ]
     },
     "metadata": {
      "needs_background": "light"
     },
     "output_type": "display_data"
    }
   ],
   "source": [
    "img = cv2.imread(test_path+\"def_front/cast_def_0_157.jpeg\")\n",
    "img = cv2.resize(img, (100,100))\n",
    "input_tensor = transform(img).unsqueeze(0).to(device)\n",
    "output = model(input_tensor).cpu()\n",
    "print(\"label: def 0\")\n",
    "print(\"pridiction: \", output.argmax(1).item())\n",
    "plt.imshow(img)"
   ]
  },
  {
   "cell_type": "code",
   "execution_count": 44,
   "metadata": {},
   "outputs": [
    {
     "ename": "IndexError",
     "evalue": "list index out of range",
     "output_type": "error",
     "traceback": [
      "\u001b[0;31m---------------------------------------------------------------------------\u001b[0m",
      "\u001b[0;31mIndexError\u001b[0m                                Traceback (most recent call last)",
      "\u001b[0;32m/tmp/10633528.1.gpu/ipykernel_143310/3753397337.py\u001b[0m in \u001b[0;36m<module>\u001b[0;34m\u001b[0m\n\u001b[1;32m      1\u001b[0m \u001b[0mgrad_roll\u001b[0m \u001b[0;34m=\u001b[0m \u001b[0mVITAttentionGradRollout\u001b[0m\u001b[0;34m(\u001b[0m\u001b[0mmodel\u001b[0m\u001b[0;34m)\u001b[0m\u001b[0;34m\u001b[0m\u001b[0;34m\u001b[0m\u001b[0m\n\u001b[0;32m----> 2\u001b[0;31m \u001b[0matt_mask\u001b[0m \u001b[0;34m=\u001b[0m \u001b[0mgrad_roll\u001b[0m\u001b[0;34m(\u001b[0m\u001b[0minput_tensor\u001b[0m\u001b[0;34m)\u001b[0m\u001b[0;34m\u001b[0m\u001b[0;34m\u001b[0m\u001b[0m\n\u001b[0m\u001b[1;32m      3\u001b[0m \u001b[0mplt\u001b[0m\u001b[0;34m.\u001b[0m\u001b[0mimshow\u001b[0m\u001b[0;34m(\u001b[0m\u001b[0matt_mask\u001b[0m\u001b[0;34m)\u001b[0m\u001b[0;34m\u001b[0m\u001b[0;34m\u001b[0m\u001b[0m\n",
      "\u001b[0;32m/tmp/10633528.1.gpu/ipykernel_143310/1324267633.py\u001b[0m in \u001b[0;36m__call__\u001b[0;34m(self, input_tensor, category_index)\u001b[0m\n\u001b[1;32m     80\u001b[0m         \u001b[0mloss\u001b[0m\u001b[0;34m.\u001b[0m\u001b[0mbackward\u001b[0m\u001b[0;34m(\u001b[0m\u001b[0;34m)\u001b[0m\u001b[0;34m\u001b[0m\u001b[0;34m\u001b[0m\u001b[0m\n\u001b[1;32m     81\u001b[0m \u001b[0;34m\u001b[0m\u001b[0m\n\u001b[0;32m---> 82\u001b[0;31m         \u001b[0;32mreturn\u001b[0m \u001b[0mgrad_rollout\u001b[0m\u001b[0;34m(\u001b[0m\u001b[0mself\u001b[0m\u001b[0;34m.\u001b[0m\u001b[0mattentions\u001b[0m\u001b[0;34m,\u001b[0m \u001b[0mself\u001b[0m\u001b[0;34m.\u001b[0m\u001b[0mattention_gradients\u001b[0m\u001b[0;34m,\u001b[0m \u001b[0mself\u001b[0m\u001b[0;34m.\u001b[0m\u001b[0mdiscard_ratio\u001b[0m\u001b[0;34m)\u001b[0m\u001b[0;34m\u001b[0m\u001b[0;34m\u001b[0m\u001b[0m\n\u001b[0m",
      "\u001b[0;32m/tmp/10633528.1.gpu/ipykernel_143310/1324267633.py\u001b[0m in \u001b[0;36mgrad_rollout\u001b[0;34m(attentions, gradients, discard_ratio)\u001b[0m\n\u001b[1;32m     26\u001b[0m \u001b[0;34m\u001b[0m\u001b[0m\n\u001b[1;32m     27\u001b[0m \u001b[0;32mdef\u001b[0m \u001b[0mgrad_rollout\u001b[0m\u001b[0;34m(\u001b[0m\u001b[0mattentions\u001b[0m\u001b[0;34m,\u001b[0m \u001b[0mgradients\u001b[0m\u001b[0;34m,\u001b[0m \u001b[0mdiscard_ratio\u001b[0m\u001b[0;34m)\u001b[0m\u001b[0;34m:\u001b[0m\u001b[0;34m\u001b[0m\u001b[0;34m\u001b[0m\u001b[0m\n\u001b[0;32m---> 28\u001b[0;31m     \u001b[0mresult\u001b[0m \u001b[0;34m=\u001b[0m \u001b[0mtorch\u001b[0m\u001b[0;34m.\u001b[0m\u001b[0meye\u001b[0m\u001b[0;34m(\u001b[0m\u001b[0mattentions\u001b[0m\u001b[0;34m[\u001b[0m\u001b[0;36m0\u001b[0m\u001b[0;34m]\u001b[0m\u001b[0;34m.\u001b[0m\u001b[0msize\u001b[0m\u001b[0;34m(\u001b[0m\u001b[0;34m-\u001b[0m\u001b[0;36m1\u001b[0m\u001b[0;34m)\u001b[0m\u001b[0;34m)\u001b[0m\u001b[0;34m\u001b[0m\u001b[0;34m\u001b[0m\u001b[0m\n\u001b[0m\u001b[1;32m     29\u001b[0m     \u001b[0;32mwith\u001b[0m \u001b[0mtorch\u001b[0m\u001b[0;34m.\u001b[0m\u001b[0mno_grad\u001b[0m\u001b[0;34m(\u001b[0m\u001b[0;34m)\u001b[0m\u001b[0;34m:\u001b[0m\u001b[0;34m\u001b[0m\u001b[0;34m\u001b[0m\u001b[0m\n\u001b[1;32m     30\u001b[0m         \u001b[0;32mfor\u001b[0m \u001b[0mattention\u001b[0m\u001b[0;34m,\u001b[0m \u001b[0mgrad\u001b[0m \u001b[0;32min\u001b[0m \u001b[0mzip\u001b[0m\u001b[0;34m(\u001b[0m\u001b[0mattentions\u001b[0m\u001b[0;34m,\u001b[0m \u001b[0mgradients\u001b[0m\u001b[0;34m)\u001b[0m\u001b[0;34m:\u001b[0m\u001b[0;34m\u001b[0m\u001b[0;34m\u001b[0m\u001b[0m\n",
      "\u001b[0;31mIndexError\u001b[0m: list index out of range"
     ]
    }
   ],
   "source": [
    "grad_roll = VITAttentionGradRollout(model)\n",
    "att_mask = grad_roll(input_tensor)\n",
    "plt.imshow(att_mask)"
   ]
  },
  {
   "cell_type": "code",
   "execution_count": 45,
   "metadata": {},
   "outputs": [
    {
     "ename": "NameError",
     "evalue": "name 'att_mask' is not defined",
     "output_type": "error",
     "traceback": [
      "\u001b[0;31m---------------------------------------------------------------------------\u001b[0m",
      "\u001b[0;31mNameError\u001b[0m                                 Traceback (most recent call last)",
      "\u001b[0;32m/tmp/10633528.1.gpu/ipykernel_143310/90274846.py\u001b[0m in \u001b[0;36m<module>\u001b[0;34m\u001b[0m\n\u001b[0;32m----> 1\u001b[0;31m \u001b[0mmask\u001b[0m \u001b[0;34m=\u001b[0m \u001b[0mcv2\u001b[0m\u001b[0;34m.\u001b[0m\u001b[0mresize\u001b[0m\u001b[0;34m(\u001b[0m\u001b[0matt_mask\u001b[0m\u001b[0;34m,\u001b[0m \u001b[0;34m(\u001b[0m\u001b[0;36m100\u001b[0m\u001b[0;34m,\u001b[0m \u001b[0;36m100\u001b[0m\u001b[0;34m)\u001b[0m\u001b[0;34m)\u001b[0m\u001b[0;34m\u001b[0m\u001b[0;34m\u001b[0m\u001b[0m\n\u001b[0m\u001b[1;32m      2\u001b[0m \u001b[0mimg\u001b[0m \u001b[0;34m=\u001b[0m \u001b[0mnp\u001b[0m\u001b[0;34m.\u001b[0m\u001b[0mfloat32\u001b[0m\u001b[0;34m(\u001b[0m\u001b[0mimg\u001b[0m\u001b[0;34m)\u001b[0m\u001b[0;34m/\u001b[0m\u001b[0;36m255\u001b[0m\u001b[0;34m\u001b[0m\u001b[0;34m\u001b[0m\u001b[0m\n\u001b[1;32m      3\u001b[0m \u001b[0mmask\u001b[0m \u001b[0;34m=\u001b[0m \u001b[0mshow_cam_on_image\u001b[0m\u001b[0;34m(\u001b[0m\u001b[0mimg\u001b[0m\u001b[0;34m,\u001b[0m \u001b[0mmask\u001b[0m\u001b[0;34m,\u001b[0m \u001b[0muse_rgb\u001b[0m\u001b[0;34m=\u001b[0m\u001b[0;32mTrue\u001b[0m\u001b[0;34m)\u001b[0m\u001b[0;34m\u001b[0m\u001b[0;34m\u001b[0m\u001b[0m\n\u001b[1;32m      4\u001b[0m \u001b[0mplt\u001b[0m\u001b[0;34m.\u001b[0m\u001b[0mimshow\u001b[0m\u001b[0;34m(\u001b[0m\u001b[0mmask\u001b[0m\u001b[0;34m)\u001b[0m\u001b[0;34m\u001b[0m\u001b[0;34m\u001b[0m\u001b[0m\n",
      "\u001b[0;31mNameError\u001b[0m: name 'att_mask' is not defined"
     ]
    }
   ],
   "source": [
    "mask = cv2.resize(att_mask, (100, 100))\n",
    "img = np.float32(img)/255\n",
    "mask = show_cam_on_image(img, mask, use_rgb=True)\n",
    "plt.imshow(mask)"
   ]
  },
  {
   "cell_type": "markdown",
   "metadata": {},
   "source": [
    "# test with testdata"
   ]
  },
  {
   "cell_type": "code",
   "execution_count": 16,
   "metadata": {},
   "outputs": [
    {
     "name": "stdout",
     "output_type": "stream",
     "text": [
      "accuracy_score: 0.492\n"
     ]
    }
   ],
   "source": [
    "# Test\n",
    "total = 0\n",
    "acc_test = 0\n",
    "y_ture = []\n",
    "y_pred = []\n",
    "out_pred = []\n",
    "\n",
    "model.eval()\n",
    "for x, y in dataloader_test:\n",
    "    total += y.size()[0]\n",
    "    x = x.to(device)\n",
    "    y = y.to(device)\n",
    "    output = model(x)\n",
    "    pred = output.argmax(1)\n",
    "    acc_test += (pred == y).float().sum().item()\n",
    "#     for i in range(y.size()[0]):\n",
    "#         y_pred.append(pred[i])\n",
    "#         y_ture.append(y[i])\n",
    "#         out_pred.append(output[i,1])\n",
    "\n",
    "\n",
    "\n",
    "print('accuracy_score: {:.3f}'.format(acc_test/total))\n",
    "# y_ture = np.array(y_ture)\n",
    "# y_pred = np.array(y_pred)\n",
    "# out_pred = np.array(out_pred)\n",
    "# print(\"total_test: {:}\" .format(total))\n",
    "# print('accuracy_score: {:.3f}'.format(accuracy_score(y_ture, y_pred)))\n",
    "# print('precision_score: {:.3f}'.format(precision_score(y_ture, y_pred)))\n",
    "# print('roc_auc_score: {:.3f}'.format(roc_auc_score(y_ture, out_pred)))\n",
    "\n",
    "# fpr, tpr, thresholds = roc_curve(y_true, out_pred,drop_intermediate=True)\n",
    "# plt.plot(fpr, tpr, marker='.')\n",
    "# plt.xlabel('FPR: False positive rate')\n",
    "# plt.ylabel('TPR: True positive rate')\n",
    "# plt.grid()"
   ]
  },
  {
   "cell_type": "markdown",
   "metadata": {},
   "source": [
    "# Feature Detection"
   ]
  },
  {
   "cell_type": "code",
   "execution_count": 46,
   "metadata": {},
   "outputs": [],
   "source": [
    "# 定义钩子函数，获取指定层名称的特征\n",
    "feature_activation = {} # 保存获取的输出\n",
    "def get_activation(name):\n",
    "    def hook(model, input, output):\n",
    "        feature_activation[name] = output.detach()\n",
    "    return hook"
   ]
  },
  {
   "cell_type": "code",
   "execution_count": 47,
   "metadata": {},
   "outputs": [],
   "source": [
    "def predict(model, input_img, label):\n",
    "    transform = transforms.Compose([transforms.ToTensor()])\n",
    "    input_tensor = transform(input_img).unsqueeze(0).to(device)\n",
    "    output = model(input_tensor)\n",
    "    y = output.argmax(1).cpu().item()\n",
    "    return y==label, y\n",
    "        \n",
    "def get_feature(model, input_img, target_layer):\n",
    "    for name, layer in model.named_modules():\n",
    "        layer.register_forward_hook(get_activation(name))\n",
    "    transform = transforms.Compose([transforms.ToTensor()])\n",
    "    input_tensor = transform(input_img).unsqueeze(0).to(device)\n",
    "    output = model(input_tensor)\n",
    "    # plot each layer result\n",
    "    for key in [target_layer]:\n",
    "        bn = feature_activation[key].cpu()\n",
    "    return bn[0,0,:,:]"
   ]
  },
  {
   "cell_type": "code",
   "execution_count": 48,
   "metadata": {},
   "outputs": [
    {
     "data": {
      "image/png": "[encoded data removed]",
      "text/plain": [
       "<Figure size 432x288 with 1 Axes>"
      ]
     },
     "metadata": {
      "needs_background": "light"
     },
     "output_type": "display_data"
    },
    {
     "ename": "KeyError",
     "evalue": "'trunk.1.1.transformer.layers.0.0.fn.attend'",
     "output_type": "error",
     "traceback": [
      "\u001b[0;31m---------------------------------------------------------------------------\u001b[0m",
      "\u001b[0;31mKeyError\u001b[0m                                  Traceback (most recent call last)",
      "\u001b[0;32m/tmp/10633528.1.gpu/ipykernel_143310/2072733278.py\u001b[0m in \u001b[0;36m<module>\u001b[0;34m\u001b[0m\n\u001b[1;32m     19\u001b[0m \u001b[0;34m\u001b[0m\u001b[0m\n\u001b[1;32m     20\u001b[0m \u001b[0;34m\u001b[0m\u001b[0m\n\u001b[0;32m---> 21\u001b[0;31m \u001b[0mbn\u001b[0m \u001b[0;34m=\u001b[0m \u001b[0mfeature_activation\u001b[0m\u001b[0;34m[\u001b[0m\u001b[0mkey\u001b[0m\u001b[0;34m]\u001b[0m\u001b[0;34m.\u001b[0m\u001b[0mcpu\u001b[0m\u001b[0;34m(\u001b[0m\u001b[0;34m)\u001b[0m\u001b[0;34m[\u001b[0m\u001b[0;36m0\u001b[0m\u001b[0;34m,\u001b[0m\u001b[0;36m0\u001b[0m\u001b[0;34m,\u001b[0m\u001b[0;34m:\u001b[0m\u001b[0;34m,\u001b[0m\u001b[0;34m:\u001b[0m\u001b[0;34m]\u001b[0m\u001b[0;34m\u001b[0m\u001b[0;34m\u001b[0m\u001b[0m\n\u001b[0m\u001b[1;32m     22\u001b[0m \u001b[0mprint\u001b[0m\u001b[0;34m(\u001b[0m\u001b[0;34m'max: {:.3f}, min: {:.3f}'\u001b[0m\u001b[0;34m.\u001b[0m\u001b[0mformat\u001b[0m\u001b[0;34m(\u001b[0m\u001b[0mtorch\u001b[0m\u001b[0;34m.\u001b[0m\u001b[0mamax\u001b[0m\u001b[0;34m(\u001b[0m\u001b[0mbn\u001b[0m\u001b[0;34m)\u001b[0m\u001b[0;34m,\u001b[0m\u001b[0mtorch\u001b[0m\u001b[0;34m.\u001b[0m\u001b[0mamin\u001b[0m\u001b[0;34m(\u001b[0m\u001b[0mbn\u001b[0m\u001b[0;34m)\u001b[0m\u001b[0;34m)\u001b[0m\u001b[0;34m)\u001b[0m\u001b[0;34m\u001b[0m\u001b[0;34m\u001b[0m\u001b[0m\n\u001b[1;32m     23\u001b[0m \u001b[0;31m#     bn = (bn*(255/torch.amax(bn))).to(torch.int64)\u001b[0m\u001b[0;34m\u001b[0m\u001b[0;34m\u001b[0m\u001b[0;34m\u001b[0m\u001b[0m\n",
      "\u001b[0;31mKeyError\u001b[0m: 'trunk.1.1.transformer.layers.0.0.fn.attend'"
     ]
    }
   ],
   "source": [
    "# target_layers = \"transformer.layers.5.0.fn.to_qkv\"\n",
    "key = \"trunk.1.1.transformer.layers.0.0.fn.attend\"\n",
    "label = 0\n",
    "\n",
    "if label == 0:\n",
    "    img = cv2.imread(train_path+\"def_front/cast_def_0_93.jpeg\")\n",
    "else:\n",
    "    img = cv2.imread(train_path+\"ok_front/cast_ok_0_304.jpeg\")\n",
    "\n",
    "for name, layer in model.named_modules():\n",
    "        layer.register_forward_hook(get_activation(name))\n",
    "input_tensor = transform(img).unsqueeze(0).to(device)\n",
    "output = model(input_tensor)\n",
    "y = output.argmax(1).cpu().item()\n",
    "plt.title(y==label)\n",
    "plt.imshow(img/np.amax(img))\n",
    "plt.axis(\"off\")\n",
    "plt.show()\n",
    "\n",
    "\n",
    "bn = feature_activation[key].cpu()[0,0,:,:]\n",
    "print('max: {:.3f}, min: {:.3f}'.format(torch.amax(bn),torch.amin(bn)))\n",
    "#     bn = (bn*(255/torch.amax(bn))).to(torch.int64)\n",
    "#     print('max: {:}, min: {:}'.format(torch.amax(bn),torch.amin(bn)))\n",
    "plt.title(bn.shape)\n",
    "plt.axis(\"off\")\n",
    "plt.imshow(bn)"
   ]
  },
  {
   "cell_type": "code",
   "execution_count": 49,
   "metadata": {
    "scrolled": false
   },
   "outputs": [
    {
     "name": "stdout",
     "output_type": "stream",
     "text": [
      "to_patch_embedding.0  :  torch.Size([1, 100, 300])\n",
      "to_patch_embedding.1  :  torch.Size([1, 100, 1024])\n",
      "to_patch_embedding  :  torch.Size([1, 100, 1024])\n",
      "dropout  :  torch.Size([1, 101, 1024])\n",
      "transformer.layers.0.0.norm  :  torch.Size([1, 101, 1024])\n",
      "transformer.layers.0.0.fn.to_qkv  :  torch.Size([1, 101, 3072])\n",
      "transformer.layers.0.0.fn.attend  :  torch.Size([1, 16, 101, 101])\n",
      "transformer.layers.0.0.fn.dropout  :  torch.Size([1, 16, 101, 101])\n",
      "transformer.layers.0.0.fn.to_out.0  :  torch.Size([1, 101, 1024])\n",
      "transformer.layers.0.0.fn.to_out.1  :  torch.Size([1, 101, 1024])\n",
      "transformer.layers.0.0.fn.to_out  :  torch.Size([1, 101, 1024])\n",
      "transformer.layers.0.0.fn  :  torch.Size([1, 101, 1024])\n",
      "transformer.layers.0.0  :  torch.Size([1, 101, 1024])\n",
      "transformer.layers.0.1.norm  :  torch.Size([1, 101, 1024])\n",
      "transformer.layers.0.1.fn.net.0  :  torch.Size([1, 101, 2048])\n",
      "transformer.layers.0.1.fn.net.1  :  torch.Size([1, 101, 2048])\n",
      "transformer.layers.0.1.fn.net.2  :  torch.Size([1, 101, 2048])\n",
      "transformer.layers.0.1.fn.net.3  :  torch.Size([1, 101, 1024])\n",
      "transformer.layers.0.1.fn.net.4  :  torch.Size([1, 101, 1024])\n",
      "transformer.layers.0.1.fn.net  :  torch.Size([1, 101, 1024])\n",
      "transformer.layers.0.1.fn  :  torch.Size([1, 101, 1024])\n",
      "transformer.layers.0.1  :  torch.Size([1, 101, 1024])\n",
      "transformer.layers.1.0.norm  :  torch.Size([1, 101, 1024])\n",
      "transformer.layers.1.0.fn.to_qkv  :  torch.Size([1, 101, 3072])\n",
      "transformer.layers.1.0.fn.attend  :  torch.Size([1, 16, 101, 101])\n",
      "transformer.layers.1.0.fn.dropout  :  torch.Size([1, 16, 101, 101])\n",
      "transformer.layers.1.0.fn.to_out.0  :  torch.Size([1, 101, 1024])\n",
      "transformer.layers.1.0.fn.to_out.1  :  torch.Size([1, 101, 1024])\n",
      "transformer.layers.1.0.fn.to_out  :  torch.Size([1, 101, 1024])\n",
      "transformer.layers.1.0.fn  :  torch.Size([1, 101, 1024])\n",
      "transformer.layers.1.0  :  torch.Size([1, 101, 1024])\n",
      "transformer.layers.1.1.norm  :  torch.Size([1, 101, 1024])\n",
      "transformer.layers.1.1.fn.net.0  :  torch.Size([1, 101, 2048])\n",
      "transformer.layers.1.1.fn.net.1  :  torch.Size([1, 101, 2048])\n",
      "transformer.layers.1.1.fn.net.2  :  torch.Size([1, 101, 2048])\n",
      "transformer.layers.1.1.fn.net.3  :  torch.Size([1, 101, 1024])\n",
      "transformer.layers.1.1.fn.net.4  :  torch.Size([1, 101, 1024])\n",
      "transformer.layers.1.1.fn.net  :  torch.Size([1, 101, 1024])\n",
      "transformer.layers.1.1.fn  :  torch.Size([1, 101, 1024])\n",
      "transformer.layers.1.1  :  torch.Size([1, 101, 1024])\n",
      "transformer.layers.2.0.norm  :  torch.Size([1, 101, 1024])\n",
      "transformer.layers.2.0.fn.to_qkv  :  torch.Size([1, 101, 3072])\n",
      "transformer.layers.2.0.fn.attend  :  torch.Size([1, 16, 101, 101])\n",
      "transformer.layers.2.0.fn.dropout  :  torch.Size([1, 16, 101, 101])\n",
      "transformer.layers.2.0.fn.to_out.0  :  torch.Size([1, 101, 1024])\n",
      "transformer.layers.2.0.fn.to_out.1  :  torch.Size([1, 101, 1024])\n",
      "transformer.layers.2.0.fn.to_out  :  torch.Size([1, 101, 1024])\n",
      "transformer.layers.2.0.fn  :  torch.Size([1, 101, 1024])\n",
      "transformer.layers.2.0  :  torch.Size([1, 101, 1024])\n",
      "transformer.layers.2.1.norm  :  torch.Size([1, 101, 1024])\n",
      "transformer.layers.2.1.fn.net.0  :  torch.Size([1, 101, 2048])\n",
      "transformer.layers.2.1.fn.net.1  :  torch.Size([1, 101, 2048])\n",
      "transformer.layers.2.1.fn.net.2  :  torch.Size([1, 101, 2048])\n",
      "transformer.layers.2.1.fn.net.3  :  torch.Size([1, 101, 1024])\n",
      "transformer.layers.2.1.fn.net.4  :  torch.Size([1, 101, 1024])\n",
      "transformer.layers.2.1.fn.net  :  torch.Size([1, 101, 1024])\n",
      "transformer.layers.2.1.fn  :  torch.Size([1, 101, 1024])\n",
      "transformer.layers.2.1  :  torch.Size([1, 101, 1024])\n",
      "transformer.layers.3.0.norm  :  torch.Size([1, 101, 1024])\n",
      "transformer.layers.3.0.fn.to_qkv  :  torch.Size([1, 101, 3072])\n",
      "transformer.layers.3.0.fn.attend  :  torch.Size([1, 16, 101, 101])\n",
      "transformer.layers.3.0.fn.dropout  :  torch.Size([1, 16, 101, 101])\n",
      "transformer.layers.3.0.fn.to_out.0  :  torch.Size([1, 101, 1024])\n",
      "transformer.layers.3.0.fn.to_out.1  :  torch.Size([1, 101, 1024])\n",
      "transformer.layers.3.0.fn.to_out  :  torch.Size([1, 101, 1024])\n",
      "transformer.layers.3.0.fn  :  torch.Size([1, 101, 1024])\n",
      "transformer.layers.3.0  :  torch.Size([1, 101, 1024])\n",
      "transformer.layers.3.1.norm  :  torch.Size([1, 101, 1024])\n",
      "transformer.layers.3.1.fn.net.0  :  torch.Size([1, 101, 2048])\n",
      "transformer.layers.3.1.fn.net.1  :  torch.Size([1, 101, 2048])\n",
      "transformer.layers.3.1.fn.net.2  :  torch.Size([1, 101, 2048])\n",
      "transformer.layers.3.1.fn.net.3  :  torch.Size([1, 101, 1024])\n",
      "transformer.layers.3.1.fn.net.4  :  torch.Size([1, 101, 1024])\n",
      "transformer.layers.3.1.fn.net  :  torch.Size([1, 101, 1024])\n",
      "transformer.layers.3.1.fn  :  torch.Size([1, 101, 1024])\n",
      "transformer.layers.3.1  :  torch.Size([1, 101, 1024])\n",
      "transformer.layers.4.0.norm  :  torch.Size([1, 101, 1024])\n",
      "transformer.layers.4.0.fn.to_qkv  :  torch.Size([1, 101, 3072])\n",
      "transformer.layers.4.0.fn.attend  :  torch.Size([1, 16, 101, 101])\n",
      "transformer.layers.4.0.fn.dropout  :  torch.Size([1, 16, 101, 101])\n",
      "transformer.layers.4.0.fn.to_out.0  :  torch.Size([1, 101, 1024])\n",
      "transformer.layers.4.0.fn.to_out.1  :  torch.Size([1, 101, 1024])\n",
      "transformer.layers.4.0.fn.to_out  :  torch.Size([1, 101, 1024])\n",
      "transformer.layers.4.0.fn  :  torch.Size([1, 101, 1024])\n",
      "transformer.layers.4.0  :  torch.Size([1, 101, 1024])\n",
      "transformer.layers.4.1.norm  :  torch.Size([1, 101, 1024])\n",
      "transformer.layers.4.1.fn.net.0  :  torch.Size([1, 101, 2048])\n",
      "transformer.layers.4.1.fn.net.1  :  torch.Size([1, 101, 2048])\n",
      "transformer.layers.4.1.fn.net.2  :  torch.Size([1, 101, 2048])\n",
      "transformer.layers.4.1.fn.net.3  :  torch.Size([1, 101, 1024])\n",
      "transformer.layers.4.1.fn.net.4  :  torch.Size([1, 101, 1024])\n",
      "transformer.layers.4.1.fn.net  :  torch.Size([1, 101, 1024])\n",
      "transformer.layers.4.1.fn  :  torch.Size([1, 101, 1024])\n",
      "transformer.layers.4.1  :  torch.Size([1, 101, 1024])\n",
      "transformer.layers.5.0.norm  :  torch.Size([1, 101, 1024])\n",
      "transformer.layers.5.0.fn.to_qkv  :  torch.Size([1, 101, 3072])\n",
      "transformer.layers.5.0.fn.attend  :  torch.Size([1, 16, 101, 101])\n",
      "transformer.layers.5.0.fn.dropout  :  torch.Size([1, 16, 101, 101])\n",
      "transformer.layers.5.0.fn.to_out.0  :  torch.Size([1, 101, 1024])\n",
      "transformer.layers.5.0.fn.to_out.1  :  torch.Size([1, 101, 1024])\n",
      "transformer.layers.5.0.fn.to_out  :  torch.Size([1, 101, 1024])\n",
      "transformer.layers.5.0.fn  :  torch.Size([1, 101, 1024])\n",
      "transformer.layers.5.0  :  torch.Size([1, 101, 1024])\n",
      "transformer.layers.5.1.norm  :  torch.Size([1, 101, 1024])\n",
      "transformer.layers.5.1.fn.net.0  :  torch.Size([1, 101, 2048])\n",
      "transformer.layers.5.1.fn.net.1  :  torch.Size([1, 101, 2048])\n",
      "transformer.layers.5.1.fn.net.2  :  torch.Size([1, 101, 2048])\n",
      "transformer.layers.5.1.fn.net.3  :  torch.Size([1, 101, 1024])\n",
      "transformer.layers.5.1.fn.net.4  :  torch.Size([1, 101, 1024])\n",
      "transformer.layers.5.1.fn.net  :  torch.Size([1, 101, 1024])\n",
      "transformer.layers.5.1.fn  :  torch.Size([1, 101, 1024])\n",
      "transformer.layers.5.1  :  torch.Size([1, 101, 1024])\n",
      "transformer  :  torch.Size([1, 101, 1024])\n",
      "to_latent  :  torch.Size([1, 1024])\n",
      "mlp_head.0  :  torch.Size([1, 1024])\n",
      "mlp_head.1  :  torch.Size([1, 2])\n",
      "mlp_head  :  torch.Size([1, 2])\n",
      "  :  torch.Size([1, 2])\n"
     ]
    }
   ],
   "source": [
    "for key in feature_activation:\n",
    "    bn = feature_activation[key].cpu()\n",
    "    print(key,\" : \",bn.shape)"
   ]
  },
  {
   "cell_type": "code",
   "execution_count": null,
   "metadata": {},
   "outputs": [],
   "source": []
  },
  {
   "cell_type": "markdown",
   "metadata": {},
   "source": [
    "# save model"
   ]
  },
  {
   "cell_type": "code",
   "execution_count": 96,
   "metadata": {},
   "outputs": [],
   "source": [
    "# for param in model.parameters():\n",
    "#     param.requires_grad = True\n",
    "# torch.save(model,\"Feactor.pkl\")"
   ]
  },
  {
   "cell_type": "code",
   "execution_count": null,
   "metadata": {},
   "outputs": [],
   "source": []
  }
 ],
 "metadata": {
  "accelerator": "GPU",
  "colab": {
   "collapsed_sections": [],
   "name": "KIMIA_CNN.ipynb",
   "provenance": []
  },
  "kernelspec": {
   "display_name": "Python 3 (ipykernel)",
   "language": "python",
   "name": "python3"
  },
  "language_info": {
   "codemirror_mode": {
    "name": "ipython",
    "version": 3
   },
   "file_extension": ".py",
   "mimetype": "text/x-python",
   "name": "python",
   "nbconvert_exporter": "python",
   "pygments_lexer": "ipython3",
   "version": "3.7.13"
  },
  "toc": {
   "base_numbering": 1,
   "nav_menu": {},
   "number_sections": true,
   "sideBar": true,
   "skip_h1_title": false,
   "title_cell": "Table of Contents",
   "title_sidebar": "Contents",
   "toc_cell": false,
   "toc_position": {},
   "toc_section_display": true,
   "toc_window_display": false
  }
 },
 "nbformat": 4,
 "nbformat_minor": 1
}
